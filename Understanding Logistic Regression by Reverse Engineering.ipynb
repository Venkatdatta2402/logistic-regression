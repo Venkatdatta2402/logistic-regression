{
 "cells": [
  {
   "cell_type": "markdown",
   "id": "29f55cbb",
   "metadata": {},
   "source": [
    "# Understanding Logistic Regression by Reverse Engineering Data"
   ]
  },
  {
   "cell_type": "markdown",
   "id": "dde0f87f",
   "metadata": {},
   "source": [
    "In this project, we simulate the data suitable for Logistic Regression model. Then, we fit the Logistic Regression model on the simulated data and evaluate the model and also draw meaningful insights where neccessary.\n",
    "\n",
    "A Logistic Regression model can be fitted to the data when the dependent variable is:\n",
    "1. Binary\n",
    "2. Proportions\n",
    "\n",
    "Firstly, we start with the Logistic model with binary dependent variable and then head to the Logistic model with proportions dependent variable."
   ]
  },
  {
   "cell_type": "markdown",
   "id": "769bd357",
   "metadata": {},
   "source": [
    "## Logistic Regression Model with Binary Dependent Variable "
   ]
  },
  {
   "cell_type": "markdown",
   "id": "785bcfe3",
   "metadata": {},
   "source": [
    "### Simulating Data Suitable for Logistic Regression Model with Binary Dependent Variable"
   ]
  },
  {
   "cell_type": "markdown",
   "id": "b6769db0",
   "metadata": {},
   "source": [
    "Considering 2 independent variables in the model, the true values of the parameters be as follows:$$\\beta_{0}=2.5, \\beta_{1}=1,\\beta_{2}=-0.5$$"
   ]
  },
  {
   "cell_type": "markdown",
   "id": "dc2f6fb3",
   "metadata": {},
   "source": [
    "Simulate the dependent factor variable with possible outcomes 0 and 1 from Binomial distribution with sample size of 150 and Prob(y=1)=0.63. Let “m” be the number of y=1 outcomes observed."
   ]
  },
  {
   "cell_type": "code",
   "execution_count": 1,
   "id": "9af75ef4",
   "metadata": {},
   "outputs": [
    {
     "data": {
      "text/html": [
       "<dl class=dl-horizontal>\n",
       "\t<dt>0</dt>\n",
       "\t\t<dd>51</dd>\n",
       "\t<dt>1</dt>\n",
       "\t\t<dd>99</dd>\n",
       "</dl>\n"
      ],
      "text/latex": [
       "\\begin{description*}\n",
       "\\item[0] 51\n",
       "\\item[1] 99\n",
       "\\end{description*}\n"
      ],
      "text/markdown": [
       "0\n",
       ":   511\n",
       ":   99\n",
       "\n"
      ],
      "text/plain": [
       " 0  1 \n",
       "51 99 "
      ]
     },
     "metadata": {},
     "output_type": "display_data"
    }
   ],
   "source": [
    "library(stats)\n",
    "y = rbinom(n = 150,size = 1,prob = 0.63)\n",
    "y = factor(y)\n",
    "summary(y)"
   ]
  },
  {
   "cell_type": "markdown",
   "id": "f714b8d1",
   "metadata": {},
   "source": [
    "Logistic regression models the probability of y=1 and the model predicts y=1 if $\\hat{P}(y=1|x_{1},x_{2})>0.5$ and predicts y=0 if $\\hat{P}(y=1|x_{1},x_{2})<0.5$ and hence $\\hat{P}(y=1|x_{1},x_{2})=0.5$ is known as decision boundary."
   ]
  },
  {
   "cell_type": "markdown",
   "id": "2eae256d",
   "metadata": {},
   "source": [
    "Since there are m number of y=1 outcomes, m number of observations have to be simulated satisfying $[\\hat{P}(y=1|x_{1},x_{2})]_{\\hat{\\beta}=\\beta}>0.5$ (We use $\\hat{\\beta}=\\beta$ so as to simulate data from the logistic model considered) i.e., $$\\Bigg[\\frac{1}{1+e^{-X_{m\\times3}\\hat{\\beta}_{3\\times1}}}\\Bigg]_{\\hat{\\beta}=\\beta}>[0.5]_{m\\times1}\\implies X\\beta>0$$($\\because$ The Logistic regression model equation is $ln(\\frac{P}{1-P})=X\\beta\\implies P(y=1|X)=\\frac{1}{1+e^{-X\\beta}}$)"
   ]
  },
  {
   "cell_type": "markdown",
   "id": "5ec8e45f",
   "metadata": {},
   "source": [
    "i.e., m number of observations ($x_{1},x_{2}$) has to be simulated from the constraint $2.5+x_{1}-0.5x_{2}>0$\n"
   ]
  },
  {
   "cell_type": "code",
   "execution_count": 2,
   "id": "65b989d6",
   "metadata": {},
   "outputs": [],
   "source": [
    "x1 = c()\n",
    "x2 = c()\n",
    "repeat{\n",
    "  for(i in 1:summary(y)[2]){\n",
    "    u1 = runif(1,0,5)\n",
    "    u2 = runif(1,0,15) \n",
    "    if(u1-0.5*u2+2.5>0){\n",
    "      x1[i] = u1\n",
    "      x2[i] = u2\n",
    "    }\n",
    "  }\n",
    "  if(length(na.omit(x1))==summary(y)[2]){break}\n",
    "} "
   ]
  },
  {
   "cell_type": "markdown",
   "id": "a50e1791",
   "metadata": {},
   "source": [
    "Similarly, 150 - m number of observations ($x_{1},x_{2}$) has to be simulated from the constraint $2.5+x_{1}−0.5x_{2}<0$ corresponding to the y=0 outcomes."
   ]
  },
  {
   "cell_type": "code",
   "execution_count": 3,
   "id": "7a236018",
   "metadata": {},
   "outputs": [],
   "source": [
    "repeat{\n",
    "  for(i in (summary(y)[2]+1):150){\n",
    "    u1 = runif(1,0,5)\n",
    "    u2 = runif(1,0,15) \n",
    "    if(u1-0.5*u2+2.5<0){\n",
    "      x1[i] = u1\n",
    "      x2[i] = u2\n",
    "    }\n",
    "  }\n",
    "  if(length(na.omit(x1))==150){break}\n",
    "}"
   ]
  },
  {
   "cell_type": "markdown",
   "id": "2702e8f6",
   "metadata": {},
   "source": [
    "The simulated variables should be put together into a dataframe such that, the data simulated from the 1st constraint has to be associated with y=1 outcomes and the data simulated from 2nd constraint has to be associated with y=0 outcomes. "
   ]
  },
  {
   "cell_type": "code",
   "execution_count": 4,
   "id": "b038411d",
   "metadata": {},
   "outputs": [
    {
     "data": {
      "text/html": [
       "<table>\n",
       "<thead><tr><th scope=col>y</th><th scope=col>x1</th><th scope=col>x2</th></tr></thead>\n",
       "<tbody>\n",
       "\t<tr><td>1        </td><td>1.2420594</td><td> 7.354441</td></tr>\n",
       "\t<tr><td>1        </td><td>3.1622362</td><td> 3.329191</td></tr>\n",
       "\t<tr><td>1        </td><td>2.2060306</td><td> 5.170763</td></tr>\n",
       "\t<tr><td>1        </td><td>4.6169975</td><td>11.441084</td></tr>\n",
       "\t<tr><td>1        </td><td>3.0917430</td><td> 6.481433</td></tr>\n",
       "\t<tr><td>1        </td><td>0.5882043</td><td> 3.778552</td></tr>\n",
       "</tbody>\n",
       "</table>\n"
      ],
      "text/latex": [
       "\\begin{tabular}{r|lll}\n",
       " y & x1 & x2\\\\\n",
       "\\hline\n",
       "\t 1         & 1.2420594 &  7.354441\\\\\n",
       "\t 1         & 3.1622362 &  3.329191\\\\\n",
       "\t 1         & 2.2060306 &  5.170763\\\\\n",
       "\t 1         & 4.6169975 & 11.441084\\\\\n",
       "\t 1         & 3.0917430 &  6.481433\\\\\n",
       "\t 1         & 0.5882043 &  3.778552\\\\\n",
       "\\end{tabular}\n"
      ],
      "text/markdown": [
       "\n",
       "| y | x1 | x2 |\n",
       "|---|---|---|\n",
       "| 1         | 1.2420594 |  7.354441 |\n",
       "| 1         | 3.1622362 |  3.329191 |\n",
       "| 1         | 2.2060306 |  5.170763 |\n",
       "| 1         | 4.6169975 | 11.441084 |\n",
       "| 1         | 3.0917430 |  6.481433 |\n",
       "| 1         | 0.5882043 |  3.778552 |\n",
       "\n"
      ],
      "text/plain": [
       "  y x1        x2       \n",
       "1 1 1.2420594  7.354441\n",
       "2 1 3.1622362  3.329191\n",
       "3 1 2.2060306  5.170763\n",
       "4 1 4.6169975 11.441084\n",
       "5 1 3.0917430  6.481433\n",
       "6 1 0.5882043  3.778552"
      ]
     },
     "metadata": {},
     "output_type": "display_data"
    }
   ],
   "source": [
    "y = sort(y,decreasing = TRUE)\n",
    "df = data.frame(y,x1,x2)\n",
    "head(df)"
   ]
  },
  {
   "cell_type": "markdown",
   "id": "cea4746b",
   "metadata": {},
   "source": [
    "This completes the process of data simulation."
   ]
  },
  {
   "cell_type": "markdown",
   "id": "7b1be411",
   "metadata": {},
   "source": [
    "### Model Fitting and  Evaluation on Simulated Data "
   ]
  },
  {
   "cell_type": "markdown",
   "id": "9a786d4a",
   "metadata": {},
   "source": [
    "Splitting the simulated data into training and test sets and fitting Logistic regression model on training set:"
   ]
  },
  {
   "cell_type": "code",
   "execution_count": 5,
   "id": "bd3be97b",
   "metadata": {},
   "outputs": [
    {
     "name": "stderr",
     "output_type": "stream",
     "text": [
      "Warning message:\n",
      "\"package 'caTools' was built under R version 3.6.3\"Warning message:\n",
      "\"glm.fit: fitted probabilities numerically 0 or 1 occurred\""
     ]
    }
   ],
   "source": [
    "library(caTools)\n",
    "split = sample.split(df$y, SplitRatio = 0.80)\n",
    "training_set = subset(df, split == TRUE)\n",
    "test_set = subset(df, split == FALSE)\n",
    "model1 = glm(y ~ ., family = binomial(link = \"logit\"), data = training_set,control = list(maxit = 50))"
   ]
  },
  {
   "cell_type": "code",
   "execution_count": 6,
   "id": "2562e57e",
   "metadata": {},
   "outputs": [
    {
     "data": {
      "text/html": [
       "'The estimated parameters are 428.16910438626 164.156418103325 -82.5037065581054'"
      ],
      "text/latex": [
       "'The estimated parameters are 428.16910438626 164.156418103325 -82.5037065581054'"
      ],
      "text/markdown": [
       "'The estimated parameters are 428.16910438626 164.156418103325 -82.5037065581054'"
      ],
      "text/plain": [
       "[1] \"The estimated parameters are 428.16910438626 164.156418103325 -82.5037065581054\""
      ]
     },
     "metadata": {},
     "output_type": "display_data"
    }
   ],
   "source": [
    "paste(\"The estimated parameters are\", model1$coefficients[1],model1$coefficients[2],model1$coefficients[3])"
   ]
  },
  {
   "cell_type": "code",
   "execution_count": 7,
   "id": "eae4e0f4",
   "metadata": {},
   "outputs": [
    {
     "data": {
      "image/png": "[encoded data removed]",
      "text/plain": [
       "plot without title"
      ]
     },
     "metadata": {},
     "output_type": "display_data"
    }
   ],
   "source": [
    "#install.packages(\"ggplot2\")\n",
    "library(ggplot2)\n",
    "ggplot(df, aes(x=x2, y=x1, group=y)) +\n",
    "  geom_point(aes(color=y)) +\n",
    "  scale_color_manual(values=c('red','darkgreen')) +\n",
    "  geom_abline(intercept = -2.5, slope = 0.5)+\n",
    "  geom_abline(intercept = -model1$coefficients[1]/model1$coefficients[2],\n",
    "              slope = -model1$coefficients[3]/model1$coefficients[2],\n",
    "              linetype = \"dashed\")"
   ]
  },
  {
   "cell_type": "markdown",
   "id": "38b35e52",
   "metadata": {},
   "source": [
    "The estimated decision boundary is (Dotted line):$$428.169+164.156x_{1}-82.504x_{2}=0\\implies 2.608+x_{1}-0.503x_{2}=0$$"
   ]
  },
  {
   "cell_type": "markdown",
   "id": "1c54f10e",
   "metadata": {},
   "source": [
    "Whereas the actual boundary line is (Solid line):$$2.5+x_{1}-0.5x_{2}=0$$"
   ]
  },
  {
   "cell_type": "markdown",
   "id": "653019d1",
   "metadata": {},
   "source": [
    "It can be observed that $\\hat{\\beta}\\ne\\beta$ but the ratios are approximately equal i.e., the estimated decision boundary is almost same as the actual decision boundary. This is because, higher the segregation in binary dependent variable explained by the independent variables, more inflated the estimated parameters are, and results in more extreme $\\hat{P}(y=1|x_{1},x_{2})$ i.e., closer to 0 or 1."
   ]
  },
  {
   "cell_type": "markdown",
   "id": "0ed1094c",
   "metadata": {},
   "source": [
    "Since the y variable is binary and the objective is to classify the observations between y=0 and y=1, the model performance depends on the decision boundary. So, even though the estimated and actual parameters are not equal, the fitted model would be highly accurate, as the decision boundaries are almost similar."
   ]
  },
  {
   "cell_type": "markdown",
   "id": "72b2da0c",
   "metadata": {},
   "source": [
    "A Confusion matrix can be used for evaluating the performance of a classification model. The matrix compares the actual target values to the predicted and gives us a holistic view of how well our classification model is performing and what kinds of errors it is making.\n",
    "\n",
    "\n"
   ]
  },
  {
   "cell_type": "code",
   "execution_count": 8,
   "id": "3041c8d4",
   "metadata": {},
   "outputs": [
    {
     "name": "stderr",
     "output_type": "stream",
     "text": [
      "Warning message:\n",
      "\"package 'MLmetrics' was built under R version 3.6.3\"\n",
      "Attaching package: 'MLmetrics'\n",
      "\n",
      "The following object is masked from 'package:base':\n",
      "\n",
      "    Recall\n",
      "\n"
     ]
    },
    {
     "data": {
      "text/plain": [
       "      y_pred\n",
       "y_true  0  1\n",
       "     0 10  0\n",
       "     1  0 20"
      ]
     },
     "metadata": {},
     "output_type": "display_data"
    }
   ],
   "source": [
    "#install.packages(\"MLmetrics\")\n",
    "library(MLmetrics)\n",
    "ypred = ifelse(predict(model1,test_set) > 0.5, 1, 0)\n",
    "ConfusionMatrix(ypred,test_set$y)"
   ]
  },
  {
   "cell_type": "markdown",
   "id": "23b85453",
   "metadata": {},
   "source": [
    "There aren't any false positive(Type 1 error) or false negative(Type 2 error) predictions which implies that the model has a perfect 100% accuracy."
   ]
  },
  {
   "cell_type": "markdown",
   "id": "d6723b7e",
   "metadata": {},
   "source": [
    "Both Precision($\\frac{TP}{TP+FN}$) and Recall($\\frac{TP}{TP+FP}$) of the model are equal to 1 as FP=FN=0."
   ]
  },
  {
   "cell_type": "markdown",
   "id": "903c0a4b",
   "metadata": {},
   "source": [
    "F1 Score, the evaluation metric of predictive power of the model is the Harmonic mean of Precision and Recall. Therefore, the F1 Score of the model is a perfect score 1."
   ]
  },
  {
   "cell_type": "markdown",
   "id": "93aa382d",
   "metadata": {},
   "source": [
    "This concludes that the predictive performance of classification model explicitly depends upon the decision boundaries."
   ]
  },
  {
   "cell_type": "markdown",
   "id": "1ca8e458",
   "metadata": {},
   "source": [
    "## Logistic Regression Model with Proportions as Dependent Variable "
   ]
  },
  {
   "cell_type": "markdown",
   "id": "498fb11b",
   "metadata": {},
   "source": [
    "### Simulating Data Suitable for Logistic Regression Model with Proportions as Dependent Variable"
   ]
  },
  {
   "cell_type": "markdown",
   "id": "cd756b96",
   "metadata": {},
   "source": [
    "Considering 2 independent variables in the model, the true values of the parameters be as follows:$$\\beta_{0}=-5, \\beta_{1}=2.4,\\beta_{2}=1.5$$"
   ]
  },
  {
   "cell_type": "markdown",
   "id": "52ef3373",
   "metadata": {},
   "source": [
    "Simulate the dependent variable proportions from Uniform distribution with sample size of 200 and lower, upper limits as 0, 1 respectively. "
   ]
  },
  {
   "cell_type": "code",
   "execution_count": 9,
   "id": "18e1cd06",
   "metadata": {},
   "outputs": [],
   "source": [
    "p = runif(200)"
   ]
  },
  {
   "cell_type": "markdown",
   "id": "a20393ad",
   "metadata": {},
   "source": [
    "The independent variables can be simulated directly from the Logistic regression model equation $ln(\\frac{P}{1-P})=X\\beta$"
   ]
  },
  {
   "cell_type": "code",
   "execution_count": 10,
   "id": "a7957901",
   "metadata": {},
   "outputs": [],
   "source": [
    "x1 = c()\n",
    "x2 = c()\n",
    "for(i in 1:200){\n",
    "    x1[i] = runif(1,0,5)\n",
    "    x2[i] = (1/1.5)*(log(p[i]/(1-p[i]))+5-2.4*x1[i])\n",
    "}"
   ]
  },
  {
   "cell_type": "markdown",
   "id": "94dc695f",
   "metadata": {},
   "source": [
    "Now, the simulated variables should be put together into a dataframe."
   ]
  },
  {
   "cell_type": "code",
   "execution_count": 11,
   "id": "eed829a5",
   "metadata": {},
   "outputs": [
    {
     "data": {
      "text/html": [
       "<table>\n",
       "<thead><tr><th scope=col>p</th><th scope=col>x1</th><th scope=col>x2</th></tr></thead>\n",
       "<tbody>\n",
       "\t<tr><td>0.05787036</td><td>4.988230  </td><td>-6.5077933</td></tr>\n",
       "\t<tr><td>0.71421845</td><td>1.167348  </td><td> 2.0762181</td></tr>\n",
       "\t<tr><td>0.33586525</td><td>1.979375  </td><td>-0.2881839</td></tr>\n",
       "\t<tr><td>0.50213570</td><td>1.070648  </td><td> 1.6259925</td></tr>\n",
       "\t<tr><td>0.11304636</td><td>2.337718  </td><td>-1.7803452</td></tr>\n",
       "\t<tr><td>0.43814255</td><td>4.247034  </td><td>-3.6277240</td></tr>\n",
       "</tbody>\n",
       "</table>\n"
      ],
      "text/latex": [
       "\\begin{tabular}{r|lll}\n",
       " p & x1 & x2\\\\\n",
       "\\hline\n",
       "\t 0.05787036 & 4.988230   & -6.5077933\\\\\n",
       "\t 0.71421845 & 1.167348   &  2.0762181\\\\\n",
       "\t 0.33586525 & 1.979375   & -0.2881839\\\\\n",
       "\t 0.50213570 & 1.070648   &  1.6259925\\\\\n",
       "\t 0.11304636 & 2.337718   & -1.7803452\\\\\n",
       "\t 0.43814255 & 4.247034   & -3.6277240\\\\\n",
       "\\end{tabular}\n"
      ],
      "text/markdown": [
       "\n",
       "| p | x1 | x2 |\n",
       "|---|---|---|\n",
       "| 0.05787036 | 4.988230   | -6.5077933 |\n",
       "| 0.71421845 | 1.167348   |  2.0762181 |\n",
       "| 0.33586525 | 1.979375   | -0.2881839 |\n",
       "| 0.50213570 | 1.070648   |  1.6259925 |\n",
       "| 0.11304636 | 2.337718   | -1.7803452 |\n",
       "| 0.43814255 | 4.247034   | -3.6277240 |\n",
       "\n"
      ],
      "text/plain": [
       "  p          x1       x2        \n",
       "1 0.05787036 4.988230 -6.5077933\n",
       "2 0.71421845 1.167348  2.0762181\n",
       "3 0.33586525 1.979375 -0.2881839\n",
       "4 0.50213570 1.070648  1.6259925\n",
       "5 0.11304636 2.337718 -1.7803452\n",
       "6 0.43814255 4.247034 -3.6277240"
      ]
     },
     "metadata": {},
     "output_type": "display_data"
    }
   ],
   "source": [
    "df = data.frame(p,x1,x2)\n",
    "head(df)"
   ]
  },
  {
   "cell_type": "markdown",
   "id": "495ecfff",
   "metadata": {},
   "source": [
    "This completes the process of data simulation."
   ]
  },
  {
   "cell_type": "markdown",
   "id": "8b1fa510",
   "metadata": {},
   "source": [
    "### Model Fitting and Evaluation on Simulated Data "
   ]
  },
  {
   "cell_type": "markdown",
   "id": "c591a3b1",
   "metadata": {},
   "source": [
    "Splitting the simulated data into training and test sets and fitting Logistic regression model on training set:"
   ]
  },
  {
   "cell_type": "code",
   "execution_count": 12,
   "id": "e966b8b7",
   "metadata": {},
   "outputs": [
    {
     "name": "stderr",
     "output_type": "stream",
     "text": [
      "Warning message in eval(family$initialize):\n",
      "\"non-integer #successes in a binomial glm!\""
     ]
    }
   ],
   "source": [
    "split = sample.split(df$p, SplitRatio = 0.80)\n",
    "training_set = subset(df, split == TRUE)\n",
    "test_set = subset(df, split == FALSE)\n",
    "model2 = glm(p ~ ., family = binomial(link = \"logit\"), data = training_set,control = list(maxit = 50))"
   ]
  },
  {
   "cell_type": "code",
   "execution_count": 13,
   "id": "993d518c",
   "metadata": {},
   "outputs": [
    {
     "data": {
      "text/html": [
       "'The estimated parameters are -5 2.4 1.5'"
      ],
      "text/latex": [
       "'The estimated parameters are -5 2.4 1.5'"
      ],
      "text/markdown": [
       "'The estimated parameters are -5 2.4 1.5'"
      ],
      "text/plain": [
       "[1] \"The estimated parameters are -5 2.4 1.5\""
      ]
     },
     "metadata": {},
     "output_type": "display_data"
    }
   ],
   "source": [
    "paste(\"The estimated parameters are\", model2$coefficients[1],model2$coefficients[2],model2$coefficients[3])"
   ]
  },
  {
   "cell_type": "markdown",
   "id": "961217b4",
   "metadata": {},
   "source": [
    "Unlike the classification model, the data is simulated directly from the model equation due to which $\\hat{\\beta}=\\beta$."
   ]
  },
  {
   "cell_type": "markdown",
   "id": "40d94de0",
   "metadata": {},
   "source": [
    "The objective of the model is to estimate proportions. Unlike Classification model, there's only one vector of parameters which can produce perfect accuracy. As the estimated and actual parameters are equal, the fitted model would be of perfect accuracy."
   ]
  },
  {
   "cell_type": "code",
   "execution_count": 14,
   "id": "d0f1fb22",
   "metadata": {},
   "outputs": [
    {
     "data": {
      "image/png": "[encoded data removed]",
      "text/plain": [
       "Plot with title \"Estimated vs Actual Proportions\""
      ]
     },
     "metadata": {},
     "output_type": "display_data"
    }
   ],
   "source": [
    "lp = predict(model2,test_set)\n",
    "p_hat = predict(model2,test_set,\"response\")\n",
    "lp_phat_df = data.frame(lp,p_hat)\n",
    "lp_phat_df = lp_phat_df[order(lp),]\n",
    "\n",
    "par(mfrow = c(1,2))\n",
    "options(repr.plot.width=8, repr.plot.height=3)\n",
    "plot(lp_phat_df$lp,lp_phat_df$p_hat,type = \"l\",xlab = \"Linear Predictor\",ylab = \"Proportion\",main = \"Model Performance on Test set\")\n",
    "points(lp,test_set$p,col = \"red\")\n",
    "plot(test_set$p,p_hat,col = \"red\",xlab = \"Actual Proportions\",ylab = \"Estimated Proportions\",main = \"Estimated vs Actual Proportions\")\n",
    "abline(0,1)"
   ]
  },
  {
   "cell_type": "markdown",
   "id": "fd48e8d1",
   "metadata": {},
   "source": [
    "The smooth line in the first plot represents the fitted model and the red points are the actual values. All the actual values are along the fitted curve indicating a perfect fit. The straight line in the second plot is a y=x line and all the points are along the line suggesting the estimated proportions are equal to actual proportions. Therefore, the above plots display the perfect accuracy of the model in predicting the proportions."
   ]
  },
  {
   "cell_type": "markdown",
   "id": "b5887d91",
   "metadata": {},
   "source": [
    "This concludes that the predictive performance of Regression model explicitly depends upon the estimated parameters."
   ]
  },
  {
   "cell_type": "markdown",
   "id": "8a7cd90d",
   "metadata": {},
   "source": [
    "In this project, we haven't considered error term during data simulation, which resulted in 100% accuracy of fitted models. However, this is impossible in real world problems and it is important not to overfit the data."
   ]
  }
 ],
 "metadata": {
  "kernelspec": {
   "display_name": "R",
   "language": "R",
   "name": "ir"
  },
  "language_info": {
   "codemirror_mode": "r",
   "file_extension": ".r",
   "mimetype": "text/x-r-source",
   "name": "R",
   "pygments_lexer": "r",
   "version": "4.0.5"
  }
 },
 "nbformat": 4,
 "nbformat_minor": 5
}
